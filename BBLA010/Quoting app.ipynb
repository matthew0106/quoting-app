{
 "cells": [
  {
   "cell_type": "code",
   "execution_count": null,
   "id": "27a0c781",
   "metadata": {},
   "outputs": [],
   "source": [
    "\n",
    "# quoting_app.py\n",
    "\n",
    "import streamlit as st\n",
    "import pandas as pd"
   ]
  },
  {
   "cell_type": "code",
   "execution_count": null,
   "id": "994526c3",
   "metadata": {},
   "outputs": [],
   "source": [
    "\n",
    "# Load data\n",
    "materials_df = pd.read_excel(\"Materials.xlsx\", skiprows=2, names=[\"Material\", \"Unit Cost\"])\n",
    "employees_df = pd.read_excel(\"Employees.xlsx\", skiprows=2, names=[\"Hours\", \"Employee\", \"Rate/hour\", \"Cost\"])\n",
    "\n",
    "st.title(\"🧾 Body Bag Quoting Tool\")\n",
    "st.markdown(\"Automatically estimate the production cost of a large body bag.\")\n",
    "\n",
    "# --- MATERIAL COST SECTION ---\n",
    "st.header(\"📦 Materials\")\n",
    "materials_df[\"Quantity\"] = materials_df[\"Material\"].apply(lambda x: st.number_input(f\"{x} quantity:\", min_value=0, value=1))\n",
    "materials_df[\"Total\"] = materials_df[\"Unit Cost\"] * materials_df[\"Quantity\"]\n",
    "total_material_cost = materials_df[\"Total\"].sum()\n",
    "\n",
    "st.dataframe(materials_df[[\"Material\", \"Unit Cost\", \"Quantity\", \"Total\"]])\n",
    "st.subheader(f\"🔹 Total Material Cost: ${total_material_cost:,.2f}\")\n",
    "\n",
    "# --- LABOUR COST SECTION ---\n",
    "st.header(\"👷 Labour\")\n",
    "employees_df[\"Hours\"] = employees_df[\"Employee\"].apply(lambda x: st.number_input(f\"{x} hours:\", min_value=0.0, value=7.0, step=0.5))\n",
    "employees_df[\"Cost\"] = employees_df[\"Hours\"] * employees_df[\"Rate/hour\"]\n",
    "total_labor_cost = employees_df[\"Cost\"].sum()\n",
    "\n",
    "st.dataframe(employees_df[[\"Employee\", \"Hours\", \"Rate/hour\", \"Cost\"]])\n",
    "st.subheader(f\"🔹 Total Labour Cost: ${total_labor_cost:,.2f}\")\n",
    "\n",
    "# --- FINAL QUOTE ---\n",
    "st.header(\"💰 Final Quotation Summary\")\n",
    "total_cost = total_material_cost + total_labor_cost\n",
    "st.success(f\"✅ Total Estimated Cost: **${total_cost:,.2f}**\")\n",
    "\n"
   ]
  }
 ],
 "metadata": {
  "language_info": {
   "name": "python"
  }
 },
 "nbformat": 4,
 "nbformat_minor": 5
}
